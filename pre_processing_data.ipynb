{
 "cells": [
  {
   "cell_type": "code",
   "execution_count": 139,
   "metadata": {},
   "outputs": [],
   "source": [
    "import numpy as np\n",
    "import pandas as pd\n",
    "\n",
    "from scipy.stats import skew\n",
    "\n",
    "from sklearn.linear_model import Ridge, Lasso\n",
    "from sklearn.neural_network import MLPRegressor\n",
    "from xgboost import XGBRegressor\n",
    "\n",
    "from sklearn.model_selection import cross_val_score\n",
    "from sklearn.model_selection import GridSearchCV\n",
    "from sklearn.model_selection import StratifiedKFold"
   ]
  },
  {
   "cell_type": "code",
   "execution_count": 140,
   "metadata": {},
   "outputs": [],
   "source": [
    "train_data = pd.read_csv('data/train.csv')\n",
    "test_data = pd.read_csv('data/train.csv')\n",
    "# Concatenando dados de treino e teste para facilitar as operações\n",
    "# de pré processamento.\n",
    "all_data = pd.concat((train_data.loc[:,'MSSubClass':'SaleCondition'],\n",
    "                  test_data.loc[:,'MSSubClass':'SaleCondition']))"
   ]
  },
  {
   "cell_type": "code",
   "execution_count": 21,
   "metadata": {},
   "outputs": [],
   "source": [
    "# Funções interessantes\n",
    "# all_data.head()\n",
    "# all_data.tail()\n",
    "# all_data.info()\n",
    "# all_data.describe()"
   ]
  },
  {
   "cell_type": "code",
   "execution_count": 141,
   "metadata": {},
   "outputs": [],
   "source": [
    "# Removing columns that the number of nans values is greater than 0.3 \n",
    "\n",
    "col_upper_bound = 0.3\n",
    "df = all_data\n",
    "for column_name in df.columns:\n",
    "    column = df[column_name]\n",
    "    nan_percentage = column.isnull().sum()/column.size\n",
    "    if(nan_percentage > upper_bound):\n",
    "        df = df.drop(columns=[column_name])\n",
    "all_data = df"
   ]
  },
  {
   "cell_type": "code",
   "execution_count": 136,
   "metadata": {},
   "outputs": [
    {
     "data": {
      "text/plain": [
       "(2920, 73)"
      ]
     },
     "execution_count": 136,
     "metadata": {},
     "output_type": "execute_result"
    }
   ],
   "source": [
    "all_data.shape"
   ]
  },
  {
   "cell_type": "code",
   "execution_count": 145,
   "metadata": {},
   "outputs": [],
   "source": [
    "# Removing columns that the number of nans values is greater than 0.1 (more than 10 values null)\n",
    "df = all_data\n",
    "row_upper_bound = 0.05\n",
    "row_size = df.shape[1]\n",
    "for index, row in df.iterrows():\n",
    "    rownan_percentage = row.isnull().sum()/row_size\n",
    "    if (rownan_percentage >= row_upper_bound ):\n",
    "        df = df.drop([index])\n",
    "\n",
    "all_data = df"
   ]
  },
  {
   "cell_type": "code",
   "execution_count": 143,
   "metadata": {},
   "outputs": [
    {
     "data": {
      "text/plain": [
       "(2698, 73)"
      ]
     },
     "execution_count": 143,
     "metadata": {},
     "output_type": "execute_result"
    }
   ],
   "source": [
    "all_data.shape"
   ]
  },
  {
   "cell_type": "code",
   "execution_count": 137,
   "metadata": {},
   "outputs": [],
   "source": [
    "# Aplicando Log nos preços de venda (valores em distribuição normal).\n",
    "train_data[\"SalePrice\"] = np.log1p(train_data[\"SalePrice\"])\n",
    "\n",
    "numeric_feats = all_data.dtypes[all_data.dtypes != \"object\"].index\n",
    "\n",
    "# Calcula o skewness\n",
    "# For normally distributed data, the skewness should be about 0.\n",
    "# A skewness value > 0 means that there is more weight in the left tail of the distribution.\n",
    "skewed_feats = all_data[numeric_feats].apply(lambda x: skew(x.dropna()))\n",
    "\n",
    "# Seleciona os valores com skewness > 0.75\n",
    "skewed_feats = skewed_feats[skewed_feats > 0.75].index\n",
    "\n",
    "# Aplicando log nos valores com skewness maior que 0.75\n",
    "all_data[skewed_feats] = np.log1p(all_data[skewed_feats])\n",
    "\n",
    "# Converte dados categorigos em dummy indicators\n",
    "all_data = pd.get_dummies(all_data)\n",
    "\n",
    "# Preenche os valores em branco com a média.\n",
    "all_data = all_data.fillna(all_data.mean())\n",
    "\n",
    "# Dados para treinamento e teste após pré processamento.\n",
    "train_x = all_data[:train_data.shape[0]]\n",
    "test_x = all_data[train_data.shape[0]:]\n",
    "train_y = train_data.SalePrice"
   ]
  },
  {
   "cell_type": "code",
   "execution_count": 144,
   "metadata": {},
   "outputs": [
    {
     "name": "stdout",
     "output_type": "stream",
     "text": [
      "Lasso(alpha=0.0005):\n",
      "0.12081504846821753\n",
      "\n",
      "XGBRegressor(n_estimators=360, max_depth=2, learning_rate=0.1):\n"
     ]
    }
   ],
   "source": [
    "def rmse_cv(model, x_train, y_train, k_folds=10):\n",
    "    return np.sqrt(-cross_val_score(model, x_train, y_train,\n",
    "        scoring=\"neg_mean_squared_error\", cv=k_folds))\n",
    "\n",
    "print('Lasso(alpha=0.0005):')\n",
    "print(rmse_cv(Lasso(alpha=0.0005), train_x, train_y).mean())\n",
    "model_lasso = Lasso(alpha=0.0005).fit(train_x, train_y)\n",
    "print()\n",
    "# Modelo XBG\n",
    "print('XGBRegressor(n_estimators=360, max_depth=2, learning_rate=0.1):')\n",
    "# print(rmse_cv(XGBRegressor(n_estimators=360, max_depth=2, learning_rate=0.1), train_x, train_y).mean())\n"
   ]
  },
  {
   "cell_type": "markdown",
   "metadata": {},
   "source": [
    "# Results\n",
    "## Default\n",
    "\n",
    "Lasso(alpha=0.0005):\n",
    "0.1211865670995667\n",
    "\n",
    "XGBRegressor(n_estimators=360, max_depth=2, learning_rate=0.1):\n",
    "0.12249088341435015\n",
    "\n",
    "## Removing nans values per col (upper_bound = 0.3)\n",
    "\n",
    "Lasso(alpha=0.0005):\n",
    "0.12082472393696742\n",
    "\n",
    "XGBRegressor(n_estimators=360, max_depth=2, learning_rate=0.1):\n",
    "0.12304465867881136\n",
    "\n",
    "## Removing nans values per row (upper_boud = 0.05)\n",
    "Lasso(alpha=0.0005):\n",
    "0.12081504846821753\n",
    "\n"
   ]
  }
 ],
 "metadata": {
  "kernelspec": {
   "display_name": "Python 3",
   "language": "python",
   "name": "python3"
  },
  "language_info": {
   "codemirror_mode": {
    "name": "ipython",
    "version": 3
   },
   "file_extension": ".py",
   "mimetype": "text/x-python",
   "name": "python",
   "nbconvert_exporter": "python",
   "pygments_lexer": "ipython3",
   "version": "3.6.4"
  }
 },
 "nbformat": 4,
 "nbformat_minor": 2
}
